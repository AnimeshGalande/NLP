{
  "nbformat": 4,
  "nbformat_minor": 0,
  "metadata": {
    "colab": {
      "name": "Textsummerization.ipynb",
      "provenance": [],
      "collapsed_sections": [],
      "authorship_tag": "ABX9TyPrcKxCZUhkHNuyCuy5hch2",
      "include_colab_link": true
    },
    "kernelspec": {
      "name": "python3",
      "display_name": "Python 3"
    },
    "language_info": {
      "name": "python"
    }
  },
  "cells": [
    {
      "cell_type": "markdown",
      "metadata": {
        "id": "view-in-github",
        "colab_type": "text"
      },
      "source": [
        "<a href=\"https://colab.research.google.com/github/AnimeshGalande/NLP/blob/master/Textsummerization.ipynb\" target=\"_parent\"><img src=\"https://colab.research.google.com/assets/colab-badge.svg\" alt=\"Open In Colab\"/></a>"
      ]
    },
    {
      "cell_type": "code",
      "metadata": {
        "colab": {
          "base_uri": "https://localhost:8080/"
        },
        "id": "bZByqV-0LZWa",
        "outputId": "9d45e21b-52ea-40b6-992e-fc0797550d43"
      },
      "source": [
        "!pip install newspaper3k"
      ],
      "execution_count": null,
      "outputs": [
        {
          "output_type": "stream",
          "text": [
            "Collecting newspaper3k\n",
            "\u001b[?25l  Downloading https://files.pythonhosted.org/packages/d7/b9/51afecb35bb61b188a4b44868001de348a0e8134b4dfa00ffc191567c4b9/newspaper3k-0.2.8-py3-none-any.whl (211kB)\n",
            "\r\u001b[K     |█▌                              | 10kB 15.2MB/s eta 0:00:01\r\u001b[K     |███                             | 20kB 13.7MB/s eta 0:00:01\r\u001b[K     |████▋                           | 30kB 9.5MB/s eta 0:00:01\r\u001b[K     |██████▏                         | 40kB 8.8MB/s eta 0:00:01\r\u001b[K     |███████▊                        | 51kB 5.6MB/s eta 0:00:01\r\u001b[K     |█████████▎                      | 61kB 5.2MB/s eta 0:00:01\r\u001b[K     |██████████▉                     | 71kB 5.7MB/s eta 0:00:01\r\u001b[K     |████████████▍                   | 81kB 5.9MB/s eta 0:00:01\r\u001b[K     |██████████████                  | 92kB 6.3MB/s eta 0:00:01\r\u001b[K     |███████████████▌                | 102kB 6.6MB/s eta 0:00:01\r\u001b[K     |█████████████████               | 112kB 6.6MB/s eta 0:00:01\r\u001b[K     |██████████████████▋             | 122kB 6.6MB/s eta 0:00:01\r\u001b[K     |████████████████████▏           | 133kB 6.6MB/s eta 0:00:01\r\u001b[K     |█████████████████████▊          | 143kB 6.6MB/s eta 0:00:01\r\u001b[K     |███████████████████████▎        | 153kB 6.6MB/s eta 0:00:01\r\u001b[K     |████████████████████████▉       | 163kB 6.6MB/s eta 0:00:01\r\u001b[K     |██████████████████████████▍     | 174kB 6.6MB/s eta 0:00:01\r\u001b[K     |████████████████████████████    | 184kB 6.6MB/s eta 0:00:01\r\u001b[K     |█████████████████████████████▌  | 194kB 6.6MB/s eta 0:00:01\r\u001b[K     |███████████████████████████████ | 204kB 6.6MB/s eta 0:00:01\r\u001b[K     |████████████████████████████████| 215kB 6.6MB/s \n",
            "\u001b[?25hCollecting feedfinder2>=0.0.4\n",
            "  Downloading https://files.pythonhosted.org/packages/35/82/1251fefec3bb4b03fd966c7e7f7a41c9fc2bb00d823a34c13f847fd61406/feedfinder2-0.0.4.tar.gz\n",
            "Requirement already satisfied: requests>=2.10.0 in /usr/local/lib/python3.7/dist-packages (from newspaper3k) (2.23.0)\n",
            "Collecting feedparser>=5.2.1\n",
            "\u001b[?25l  Downloading https://files.pythonhosted.org/packages/1c/21/faf1bac028662cc8adb2b5ef7a6f3999a765baa2835331df365289b0ca56/feedparser-6.0.2-py3-none-any.whl (80kB)\n",
            "\u001b[K     |████████████████████████████████| 81kB 4.5MB/s \n",
            "\u001b[?25hRequirement already satisfied: nltk>=3.2.1 in /usr/local/lib/python3.7/dist-packages (from newspaper3k) (3.2.5)\n",
            "Requirement already satisfied: python-dateutil>=2.5.3 in /usr/local/lib/python3.7/dist-packages (from newspaper3k) (2.8.1)\n",
            "Collecting cssselect>=0.9.2\n",
            "  Downloading https://files.pythonhosted.org/packages/3b/d4/3b5c17f00cce85b9a1e6f91096e1cc8e8ede2e1be8e96b87ce1ed09e92c5/cssselect-1.1.0-py2.py3-none-any.whl\n",
            "Requirement already satisfied: lxml>=3.6.0 in /usr/local/lib/python3.7/dist-packages (from newspaper3k) (4.2.6)\n",
            "Collecting jieba3k>=0.35.1\n",
            "\u001b[?25l  Downloading https://files.pythonhosted.org/packages/a9/cb/2c8332bcdc14d33b0bedd18ae0a4981a069c3513e445120da3c3f23a8aaa/jieba3k-0.35.1.zip (7.4MB)\n",
            "\u001b[K     |████████████████████████████████| 7.4MB 8.7MB/s \n",
            "\u001b[?25hCollecting tinysegmenter==0.3\n",
            "  Downloading https://files.pythonhosted.org/packages/17/82/86982e4b6d16e4febc79c2a1d68ee3b707e8a020c5d2bc4af8052d0f136a/tinysegmenter-0.3.tar.gz\n",
            "Requirement already satisfied: beautifulsoup4>=4.4.1 in /usr/local/lib/python3.7/dist-packages (from newspaper3k) (4.6.3)\n",
            "Requirement already satisfied: PyYAML>=3.11 in /usr/local/lib/python3.7/dist-packages (from newspaper3k) (3.13)\n",
            "Collecting tldextract>=2.0.1\n",
            "\u001b[?25l  Downloading https://files.pythonhosted.org/packages/7e/62/b6acd3129c5615b9860e670df07fd55b76175b63e6b7f68282c7cad38e9e/tldextract-3.1.0-py2.py3-none-any.whl (87kB)\n",
            "\u001b[K     |████████████████████████████████| 92kB 8.5MB/s \n",
            "\u001b[?25hRequirement already satisfied: Pillow>=3.3.0 in /usr/local/lib/python3.7/dist-packages (from newspaper3k) (7.1.2)\n",
            "Requirement already satisfied: six in /usr/local/lib/python3.7/dist-packages (from feedfinder2>=0.0.4->newspaper3k) (1.15.0)\n",
            "Requirement already satisfied: urllib3!=1.25.0,!=1.25.1,<1.26,>=1.21.1 in /usr/local/lib/python3.7/dist-packages (from requests>=2.10.0->newspaper3k) (1.24.3)\n",
            "Requirement already satisfied: chardet<4,>=3.0.2 in /usr/local/lib/python3.7/dist-packages (from requests>=2.10.0->newspaper3k) (3.0.4)\n",
            "Requirement already satisfied: certifi>=2017.4.17 in /usr/local/lib/python3.7/dist-packages (from requests>=2.10.0->newspaper3k) (2020.12.5)\n",
            "Requirement already satisfied: idna<3,>=2.5 in /usr/local/lib/python3.7/dist-packages (from requests>=2.10.0->newspaper3k) (2.10)\n",
            "Collecting sgmllib3k\n",
            "  Downloading https://files.pythonhosted.org/packages/9e/bd/3704a8c3e0942d711c1299ebf7b9091930adae6675d7c8f476a7ce48653c/sgmllib3k-1.0.0.tar.gz\n",
            "Requirement already satisfied: filelock>=3.0.8 in /usr/local/lib/python3.7/dist-packages (from tldextract>=2.0.1->newspaper3k) (3.0.12)\n",
            "Collecting requests-file>=1.4\n",
            "  Downloading https://files.pythonhosted.org/packages/77/86/cdb5e8eaed90796aa83a6d9f75cfbd37af553c47a291cd47bc410ef9bdb2/requests_file-1.5.1-py2.py3-none-any.whl\n",
            "Building wheels for collected packages: feedfinder2, jieba3k, tinysegmenter, sgmllib3k\n",
            "  Building wheel for feedfinder2 (setup.py) ... \u001b[?25l\u001b[?25hdone\n",
            "  Created wheel for feedfinder2: filename=feedfinder2-0.0.4-cp37-none-any.whl size=3358 sha256=eaa356e8d96d6504e109ff69b67858f242ddc2e1dcb4bdc0555488e1ef2bc005\n",
            "  Stored in directory: /root/.cache/pip/wheels/de/03/ca/778e3a7a627e3d98836cc890e7cb40c7575424cfd3340f40ed\n",
            "  Building wheel for jieba3k (setup.py) ... \u001b[?25l\u001b[?25hdone\n",
            "  Created wheel for jieba3k: filename=jieba3k-0.35.1-cp37-none-any.whl size=7398406 sha256=5d3ae2f8290e8caf414f6c048f4c84c11ae3dad8b6c4c274459d6a82911ac2cf\n",
            "  Stored in directory: /root/.cache/pip/wheels/83/15/9c/a3f1f67e7f7181170ad37d32e503c35da20627c013f438ed34\n",
            "  Building wheel for tinysegmenter (setup.py) ... \u001b[?25l\u001b[?25hdone\n",
            "  Created wheel for tinysegmenter: filename=tinysegmenter-0.3-cp37-none-any.whl size=13538 sha256=2e921183bb07d4b5f80466721bd10b57ddfdf7391059f50744ea7f8daf3b35e4\n",
            "  Stored in directory: /root/.cache/pip/wheels/81/2b/43/a02ede72324dd40cdd7ca53aad718c7710628e91b8b0dc0f02\n",
            "  Building wheel for sgmllib3k (setup.py) ... \u001b[?25l\u001b[?25hdone\n",
            "  Created wheel for sgmllib3k: filename=sgmllib3k-1.0.0-cp37-none-any.whl size=6067 sha256=4040c0a6e232f5a9ca73299c386ac1d20cf51eb8a52f5ec564f5caa44d92c62f\n",
            "  Stored in directory: /root/.cache/pip/wheels/f1/80/5a/444ba08a550cdd241bd9baf8bae44be750efe370adb944506a\n",
            "Successfully built feedfinder2 jieba3k tinysegmenter sgmllib3k\n",
            "Installing collected packages: feedfinder2, sgmllib3k, feedparser, cssselect, jieba3k, tinysegmenter, requests-file, tldextract, newspaper3k\n",
            "Successfully installed cssselect-1.1.0 feedfinder2-0.0.4 feedparser-6.0.2 jieba3k-0.35.1 newspaper3k-0.2.8 requests-file-1.5.1 sgmllib3k-1.0.0 tinysegmenter-0.3 tldextract-3.1.0\n"
          ],
          "name": "stdout"
        }
      ]
    },
    {
      "cell_type": "code",
      "metadata": {
        "id": "_vGA-2vgwT6t",
        "colab": {
          "base_uri": "https://localhost:8080/"
        },
        "outputId": "1f8858e3-492a-4a15-a7ae-9e826ad873bd"
      },
      "source": [
        "import  tkinter as tk\n",
        "import nltk\n",
        "from textblob import TextBlob\n",
        "from newspaper import Article\n",
        "\n",
        "nltk.download('punkt')"
      ],
      "execution_count": null,
      "outputs": [
        {
          "output_type": "stream",
          "text": [
            "[nltk_data] Downloading package punkt to /root/nltk_data...\n",
            "[nltk_data]   Unzipping tokenizers/punkt.zip.\n"
          ],
          "name": "stdout"
        },
        {
          "output_type": "execute_result",
          "data": {
            "text/plain": [
              "True"
            ]
          },
          "metadata": {
            "tags": []
          },
          "execution_count": 6
        }
      ]
    },
    {
      "cell_type": "code",
      "metadata": {
        "id": "nUaA3CakLXbW"
      },
      "source": [
        "url = \"https://timesofindia.indiatimes.com/india/sc-quashes-maharashtra-law-granting-reservation-to-maratha-community/articleshow/82399772.cms\""
      ],
      "execution_count": null,
      "outputs": []
    },
    {
      "cell_type": "code",
      "metadata": {
        "id": "h-Y6zeBmOnMW",
        "colab": {
          "base_uri": "https://localhost:8080/"
        },
        "outputId": "e30e39a4-a29f-49f2-adeb-e2a670ae495d"
      },
      "source": [
        "article = Article(url)\n",
        "article.download()\n",
        "article.parse()\n",
        "article.nlp()\n",
        "print(f'Title: {article.title}')\n",
        "print(f'Authors: {article.authors}')\n",
        "print(f'Date: {article.publish_date}')\n",
        "print(f'Summary: {article.summary}')"
      ],
      "execution_count": null,
      "outputs": [
        {
          "output_type": "stream",
          "text": [
            "Title: Maratha reservation news: Supreme Court quashes Maharashtra law granting reservation to Maratha community\n",
            "Authors: []\n",
            "Date: None\n",
            "Summary: SC strikes down reservation for Maratha community in education and jobsNEW DELHI: The Supreme Court on Wednesday quashed of Maharashtra law to grant reservation for Marathas in jobs and education institutions and also ruled that there was no need to re-examine its 1992 verdict capping quota at 50 per cent.A five-judge Constitution bench of Justices Ashok Bhushan, L Nageswara Rao, S Abdul Nazeer, Hemant Gupta and S Ravindra Bhat were unanimous on unconstitutionality of Maratha law and said that Maratha community cannot be declared as socially and educationally backward community to grant them reservation.The court also also pointed out that there was no exceptional circumstances and extraordinary situation to justify breach of 50 percent cap in granting reservation to Marathas.The state government had framed the law on November 30, 2018 granting 16 percent quota for Marathas in government jobs and admission in educational institutions.While upholding the law, Bombay High Court on June 27 last year directed the government brought it down to 12% for education and 13% for jobs as recommended by a state-appointed backward class commission headed by former HC judge M B Gaikwad.Challenging the high court’s, the petitioners contended that the HC misread SC judgments to conclude that there is no stringent ceiling limit of 50% reservation as set out in the 1992 Indra Sawhney case.\n",
            "\\Allowing the appeal, the apex court quashed the high court orderThe main plank of the bunch of petitioners challenging the validity of the Maratha quota is that it took the total reservation way beyond the 50% ceiling on quota put by the SC in its landmark Indra Sawhney judgment in November 1992, while upholding the validity of 27% OBC quota in government jobs, which was later extended to admissions in state-run educational institutions.The state government, however, said that there was no illegality in giving reservation to Maratha community and pointed out that many states were providing reservation above 50 percent which has not been stayed by SC.Various states have also supported Maharashtra government and pleaded that SC's 1992 verdict by nine-judge bench needed to be re-examined and contended that that 50 percent cap imposed by judicial verdict should go and they should be allowed to decide on the quantum of quota required.The Centre had also come in support of Maratha reservation and told the court that it was a valid law.\n"
          ],
          "name": "stdout"
        }
      ]
    },
    {
      "cell_type": "code",
      "metadata": {
        "id": "iOx2XDIuTlRf"
      },
      "source": [
        "def  summarize(url):\n",
        "  article = Article(url)\n",
        "  article.download()\n",
        "  article.parse()\n",
        "  article.nlp()\n",
        "  print(f'Title: {article.title}')\n",
        "  print(f'Authors: {article.authors}')\n",
        "  print(f'Date: {article.publish_date}')\n",
        "  print(f'Summary: {article.summary}')"
      ],
      "execution_count": null,
      "outputs": []
    },
    {
      "cell_type": "markdown",
      "metadata": {
        "id": "P_gNFHHrrik6"
      },
      "source": [
        ""
      ]
    },
    {
      "cell_type": "code",
      "metadata": {
        "colab": {
          "base_uri": "https://localhost:8080/"
        },
        "id": "UiUldB9yXVyL",
        "outputId": "7f7f0001-ff82-4a08-cad3-507d748b65b3"
      },
      "source": [
        "url = input('Enter Url of the article')\n",
        "summarize(url)"
      ],
      "execution_count": null,
      "outputs": [
        {
          "output_type": "stream",
          "text": [
            "Enter Url of the articlehttps://www.theguardian.com/global-development/2021/may/05/revealed-2000-refugee-deaths-linked-to-eu-pushbacks\n",
            "Title: Revealed: 2,000 refugee deaths linked to illegal EU pushbacks\n",
            "Authors: ['Lorenzo Tondo']\n",
            "Date: 2021-05-05 00:00:00\n",
            "Summary: EU member states have used illegal operations to push back at least 40,000 asylum seekers from Europe’s borders during the pandemic, methods being linked to the death of more than 2,000 people, the Guardian can reveal.\n",
            "Since January 2020, despite the drop in numbers, Italy, Malta, Greece, Croatia and Spain have accelerated their hardline migration agenda.\n",
            "In 2020 Croatia, whose police patrol the EU’s longest external border, have intensified systemic violence and pushbacks of migrants to Bosnia.\n",
            "The Danish Refugee Council (DRC) recorded nearly 18,000 migrants pushed back by Croatia since the start of the pandemic.\n",
            "The report stated that in 89% of the pushbacks, “BVMN has observed the disproportionate and excessive use of force.\n"
          ],
          "name": "stdout"
        }
      ]
    },
    {
      "cell_type": "code",
      "metadata": {
        "id": "b480_U-hXm9I"
      },
      "source": [
        ""
      ],
      "execution_count": null,
      "outputs": []
    }
  ]
}