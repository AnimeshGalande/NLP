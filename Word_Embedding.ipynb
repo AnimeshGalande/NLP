{
  "nbformat": 4,
  "nbformat_minor": 0,
  "metadata": {
    "colab": {
      "name": "Word Embedding.ipynb",
      "provenance": [],
      "authorship_tag": "ABX9TyO5XHDqKBkIlKs3QFb351/q",
      "include_colab_link": true
    },
    "kernelspec": {
      "name": "python3",
      "display_name": "Python 3"
    },
    "language_info": {
      "name": "python"
    }
  },
  "cells": [
    {
      "cell_type": "markdown",
      "metadata": {
        "id": "view-in-github",
        "colab_type": "text"
      },
      "source": [
        "<a href=\"https://colab.research.google.com/github/AnimeshGalande/NLP/blob/master/Word_Embedding.ipynb\" target=\"_parent\"><img src=\"https://colab.research.google.com/assets/colab-badge.svg\" alt=\"Open In Colab\"/></a>"
      ]
    },
    {
      "cell_type": "code",
      "metadata": {
        "id": "JoteRvw8uMr8"
      },
      "source": [
        "from tensorflow.keras.preprocessing.text import one_hot"
      ],
      "execution_count": 5,
      "outputs": []
    },
    {
      "cell_type": "code",
      "metadata": {
        "colab": {
          "base_uri": "https://localhost:8080/"
        },
        "id": "PKJcrSJ7uwEI",
        "outputId": "0756bd49-1de7-48a4-a5e6-b3e5d5143313"
      },
      "source": [
        "sentences =  [\"I want to dance.\",\n",
        "\"I like to eat\",\n",
        "\"Dreams may come true.\"\t,\n",
        "\"Apple is a red colour fruit.\",\n",
        "\"Pineapple is a fruit.\",\n",
        "\"Fruit can be used for making juice.\",\n",
        "\"We can eat fruit\"]\n",
        "sentences"
      ],
      "execution_count": 20,
      "outputs": [
        {
          "output_type": "execute_result",
          "data": {
            "text/plain": [
              "['I want to dance.',\n",
              " 'I like to eat',\n",
              " 'Dreams may come true.',\n",
              " 'Apple is a red colour fruit.',\n",
              " 'Pineapple is a fruit.',\n",
              " 'Fruit can be used for making juice.',\n",
              " 'We can eat fruit']"
            ]
          },
          "metadata": {
            "tags": []
          },
          "execution_count": 20
        }
      ]
    },
    {
      "cell_type": "code",
      "metadata": {
        "id": "OpeuvI62vpZx"
      },
      "source": [
        "#vocabulary size \n",
        "voc_size = 10000"
      ],
      "execution_count": 15,
      "outputs": []
    },
    {
      "cell_type": "markdown",
      "metadata": {
        "id": "hTqcqo6sxbbk"
      },
      "source": [
        "One hot representation"
      ]
    },
    {
      "cell_type": "code",
      "metadata": {
        "colab": {
          "base_uri": "https://localhost:8080/"
        },
        "id": "PPIckPSRxVT3",
        "outputId": "fa36a95d-d0f9-432d-d147-86b8defdb3de"
      },
      "source": [
        "onehot_rep = [one_hot(input_text=words, n = voc_size)for words in sentences]\n",
        "print(onehot_rep)"
      ],
      "execution_count": 21,
      "outputs": [
        {
          "output_type": "stream",
          "text": [
            "[[56, 8300, 761, 1090], [56, 6136, 761, 8557], [9819, 9107, 3770, 4900], [3418, 3038, 1112, 1020, 6540, 2697], [6540, 3038, 1112, 2697], [2697, 8979, 9391, 4174, 8254, 8630, 9167], [1877, 8979, 8557, 2697]]\n"
          ],
          "name": "stdout"
        }
      ]
    },
    {
      "cell_type": "code",
      "metadata": {
        "id": "o1byvntcyKcj"
      },
      "source": [
        " from tensorflow.keras.layers import Embedding\n",
        " from tensorflow.keras.preprocessing.sequence import pad_sequences\n",
        "from tensorflow.keras.models import Sequential"
      ],
      "execution_count": 19,
      "outputs": []
    },
    {
      "cell_type": "code",
      "metadata": {
        "id": "nfcAXmIpyTq0"
      },
      "source": [
        "import numpy as np"
      ],
      "execution_count": 22,
      "outputs": []
    },
    {
      "cell_type": "code",
      "metadata": {
        "colab": {
          "base_uri": "https://localhost:8080/"
        },
        "id": "ac3ncprVz-t0",
        "outputId": "9788e2f4-615c-4b77-a80d-46d32a903763"
      },
      "source": [
        "sent_len = 10\n",
        "#For padding we actually require similar length sentence . so in case sentence is smaller it have 0 until sentence begins/end depending on pre /post\n",
        "embedd = pad_sequences(onehot_rep,sent_len,padding= 'pre')\n",
        "print(embedd)"
      ],
      "execution_count": 25,
      "outputs": [
        {
          "output_type": "stream",
          "text": [
            "[[   0    0    0    0    0    0   56 8300  761 1090]\n",
            " [   0    0    0    0    0    0   56 6136  761 8557]\n",
            " [   0    0    0    0    0    0 9819 9107 3770 4900]\n",
            " [   0    0    0    0 3418 3038 1112 1020 6540 2697]\n",
            " [   0    0    0    0    0    0 6540 3038 1112 2697]\n",
            " [   0    0    0 2697 8979 9391 4174 8254 8630 9167]\n",
            " [   0    0    0    0    0    0 1877 8979 8557 2697]]\n"
          ],
          "name": "stdout"
        }
      ]
    },
    {
      "cell_type": "code",
      "metadata": {
        "id": "UH8JmC0O1-vb"
      },
      "source": [
        "dim = 15"
      ],
      "execution_count": 26,
      "outputs": []
    },
    {
      "cell_type": "code",
      "metadata": {
        "id": "Om39m_JI2K6l"
      },
      "source": [
        "model = Sequential()\n",
        "model.add(Embedding(input_dim = voc_size,output_dim=dim,input_length=sent_len))\n",
        "model.compile('adam','mse')"
      ],
      "execution_count": 27,
      "outputs": []
    },
    {
      "cell_type": "code",
      "metadata": {
        "colab": {
          "base_uri": "https://localhost:8080/"
        },
        "id": "NqrAi5y527rf",
        "outputId": "7dff68c2-e7cf-4027-9797-9418fd5a8d57"
      },
      "source": [
        "model.summary()"
      ],
      "execution_count": 28,
      "outputs": [
        {
          "output_type": "stream",
          "text": [
            "Model: \"sequential\"\n",
            "_________________________________________________________________\n",
            "Layer (type)                 Output Shape              Param #   \n",
            "=================================================================\n",
            "embedding (Embedding)        (None, 10, 15)            150000    \n",
            "=================================================================\n",
            "Total params: 150,000\n",
            "Trainable params: 150,000\n",
            "Non-trainable params: 0\n",
            "_________________________________________________________________\n"
          ],
          "name": "stdout"
        }
      ]
    },
    {
      "cell_type": "code",
      "metadata": {
        "colab": {
          "base_uri": "https://localhost:8080/"
        },
        "id": "i11_p9BL2-va",
        "outputId": "d96e5760-5f5f-45fe-99dc-08dbc9f5931b"
      },
      "source": [
        "model.predict(embedd)"
      ],
      "execution_count": 29,
      "outputs": [
        {
          "output_type": "execute_result",
          "data": {
            "text/plain": [
              "array([[[-0.04235889,  0.02396578,  0.00836738, ...,  0.0191418 ,\n",
              "         -0.01327976, -0.00097411],\n",
              "        [-0.04235889,  0.02396578,  0.00836738, ...,  0.0191418 ,\n",
              "         -0.01327976, -0.00097411],\n",
              "        [-0.04235889,  0.02396578,  0.00836738, ...,  0.0191418 ,\n",
              "         -0.01327976, -0.00097411],\n",
              "        ...,\n",
              "        [-0.0294969 , -0.00297923, -0.01715159, ...,  0.03073126,\n",
              "         -0.01583539,  0.01879381],\n",
              "        [ 0.03888226,  0.03082657, -0.04344118, ..., -0.00820681,\n",
              "         -0.04497954, -0.01642162],\n",
              "        [-0.02526004,  0.00537413, -0.04939215, ...,  0.03696654,\n",
              "         -0.00935436,  0.00031392]],\n",
              "\n",
              "       [[-0.04235889,  0.02396578,  0.00836738, ...,  0.0191418 ,\n",
              "         -0.01327976, -0.00097411],\n",
              "        [-0.04235889,  0.02396578,  0.00836738, ...,  0.0191418 ,\n",
              "         -0.01327976, -0.00097411],\n",
              "        [-0.04235889,  0.02396578,  0.00836738, ...,  0.0191418 ,\n",
              "         -0.01327976, -0.00097411],\n",
              "        ...,\n",
              "        [-0.03844581,  0.02655523, -0.01364971, ..., -0.0291804 ,\n",
              "         -0.01126435, -0.02518568],\n",
              "        [ 0.03888226,  0.03082657, -0.04344118, ..., -0.00820681,\n",
              "         -0.04497954, -0.01642162],\n",
              "        [-0.02405431,  0.03672684, -0.00529822, ...,  0.03903849,\n",
              "         -0.03565387, -0.00720244]],\n",
              "\n",
              "       [[-0.04235889,  0.02396578,  0.00836738, ...,  0.0191418 ,\n",
              "         -0.01327976, -0.00097411],\n",
              "        [-0.04235889,  0.02396578,  0.00836738, ...,  0.0191418 ,\n",
              "         -0.01327976, -0.00097411],\n",
              "        [-0.04235889,  0.02396578,  0.00836738, ...,  0.0191418 ,\n",
              "         -0.01327976, -0.00097411],\n",
              "        ...,\n",
              "        [ 0.04077545, -0.04789786, -0.03607482, ...,  0.00726427,\n",
              "         -0.03706587, -0.01687094],\n",
              "        [ 0.02208138,  0.04302528,  0.00711433, ...,  0.04286497,\n",
              "         -0.03023252, -0.02434002],\n",
              "        [-0.03472705,  0.02473022,  0.03871233, ...,  0.01613436,\n",
              "         -0.03536445, -0.00616472]],\n",
              "\n",
              "       ...,\n",
              "\n",
              "       [[-0.04235889,  0.02396578,  0.00836738, ...,  0.0191418 ,\n",
              "         -0.01327976, -0.00097411],\n",
              "        [-0.04235889,  0.02396578,  0.00836738, ...,  0.0191418 ,\n",
              "         -0.01327976, -0.00097411],\n",
              "        [-0.04235889,  0.02396578,  0.00836738, ...,  0.0191418 ,\n",
              "         -0.01327976, -0.00097411],\n",
              "        ...,\n",
              "        [-0.00748317,  0.03766574, -0.03294189, ..., -0.01502804,\n",
              "          0.02110839,  0.01079619],\n",
              "        [ 0.00524317,  0.02049888, -0.04435637, ..., -0.0432322 ,\n",
              "          0.01765898, -0.02142291],\n",
              "        [-0.04253447,  0.0443022 ,  0.0214129 , ...,  0.01242955,\n",
              "         -0.04764445, -0.00805842]],\n",
              "\n",
              "       [[-0.04235889,  0.02396578,  0.00836738, ...,  0.0191418 ,\n",
              "         -0.01327976, -0.00097411],\n",
              "        [-0.04235889,  0.02396578,  0.00836738, ...,  0.0191418 ,\n",
              "         -0.01327976, -0.00097411],\n",
              "        [-0.04235889,  0.02396578,  0.00836738, ...,  0.0191418 ,\n",
              "         -0.01327976, -0.00097411],\n",
              "        ...,\n",
              "        [ 0.03448187,  0.04076655,  0.01098496, ..., -0.0394089 ,\n",
              "          0.00748552, -0.00163423],\n",
              "        [-0.00544059,  0.04100934,  0.04864999, ..., -0.00092326,\n",
              "         -0.01524321,  0.04855489],\n",
              "        [-0.02205424,  0.01907391,  0.0220194 , ...,  0.01189351,\n",
              "         -0.04822273, -0.04768032]],\n",
              "\n",
              "       [[-0.04235889,  0.02396578,  0.00836738, ...,  0.0191418 ,\n",
              "         -0.01327976, -0.00097411],\n",
              "        [-0.04235889,  0.02396578,  0.00836738, ...,  0.0191418 ,\n",
              "         -0.01327976, -0.00097411],\n",
              "        [-0.04235889,  0.02396578,  0.00836738, ...,  0.0191418 ,\n",
              "         -0.01327976, -0.00097411],\n",
              "        ...,\n",
              "        [-0.03972698,  0.00031604, -0.00560258, ..., -0.02931519,\n",
              "         -0.01224672, -0.03299753],\n",
              "        [-0.02405431,  0.03672684, -0.00529822, ...,  0.03903849,\n",
              "         -0.03565387, -0.00720244],\n",
              "        [-0.04253447,  0.0443022 ,  0.0214129 , ...,  0.01242955,\n",
              "         -0.04764445, -0.00805842]]], dtype=float32)"
            ]
          },
          "metadata": {
            "tags": []
          },
          "execution_count": 29
        }
      ]
    },
    {
      "cell_type": "code",
      "metadata": {
        "id": "VuTYykb23Fyt"
      },
      "source": [
        ""
      ],
      "execution_count": null,
      "outputs": []
    }
  ]
}